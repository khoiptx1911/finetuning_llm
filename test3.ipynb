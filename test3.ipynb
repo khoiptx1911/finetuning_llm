{
 "cells": [
  {
   "cell_type": "code",
   "execution_count": 2,
   "metadata": {},
   "outputs": [
    {
     "name": "stderr",
     "output_type": "stream",
     "text": [
      "/home/khoi/miniconda3/envs/py1/lib/python3.11/site-packages/tqdm/auto.py:21: TqdmWarning: IProgress not found. Please update jupyter and ipywidgets. See https://ipywidgets.readthedocs.io/en/stable/user_install.html\n",
      "  from .autonotebook import tqdm as notebook_tqdm\n"
     ]
    }
   ],
   "source": [
    "import torch\n",
    "from transformers import (\n",
    "    AutoModelForCausalLM, \n",
    "    AutoTokenizer, \n",
    "    Trainer, \n",
    "    TrainingArguments\n",
    ")\n",
    "from datasets import load_from_disk\n",
    "import accelerate"
   ]
  },
  {
   "cell_type": "code",
   "execution_count": 3,
   "metadata": {},
   "outputs": [],
   "source": [
    "tokenizer_path = './smollm2_model_1'\n",
    "model = AutoModelForCausalLM.from_pretrained(tokenizer_path).cuda()\n",
    "tokenizer = AutoTokenizer.from_pretrained(tokenizer_path)"
   ]
  },
  {
   "cell_type": "code",
   "execution_count": 4,
   "metadata": {},
   "outputs": [],
   "source": [
    "dataset = load_from_disk('./tokenized_dataset')"
   ]
  },
  {
   "cell_type": "code",
   "execution_count": 5,
   "metadata": {},
   "outputs": [
    {
     "name": "stdout",
     "output_type": "stream",
     "text": [
      "Phân phối độ dài sequence:\n",
      "Min length: 6\n",
      "Max length: 116\n",
      "Mean length: 34.77\n",
      "Median length: 34.00\n",
      "Percentiles:\n",
      "  - 75th percentile: 42.00\n",
      "  - 90th percentile: 51.00\n",
      "  - 95th percentile: 58.00\n"
     ]
    }
   ],
   "source": [
    "# Phân tích độ dài sequence\n",
    "lengths = [len(tokenizer(text)['input_ids']) for text in dataset['train']['input_text']]\n",
    "\n",
    "import numpy as np\n",
    "print(\"Phân phối độ dài sequence:\")\n",
    "print(f\"Min length: {min(lengths)}\")\n",
    "print(f\"Max length: {max(lengths)}\")\n",
    "print(f\"Mean length: {np.mean(lengths):.2f}\")\n",
    "print(f\"Median length: {np.median(lengths):.2f}\")\n",
    "print(f\"Percentiles:\")\n",
    "print(f\"  - 75th percentile: {np.percentile(lengths, 75):.2f}\")\n",
    "print(f\"  - 90th percentile: {np.percentile(lengths, 90):.2f}\")\n",
    "print(f\"  - 95th percentile: {np.percentile(lengths, 95):.2f}\")"
   ]
  }
 ],
 "metadata": {
  "kernelspec": {
   "display_name": "py1",
   "language": "python",
   "name": "python3"
  },
  "language_info": {
   "codemirror_mode": {
    "name": "ipython",
    "version": 3
   },
   "file_extension": ".py",
   "mimetype": "text/x-python",
   "name": "python",
   "nbconvert_exporter": "python",
   "pygments_lexer": "ipython3",
   "version": "3.11.10"
  }
 },
 "nbformat": 4,
 "nbformat_minor": 2
}
